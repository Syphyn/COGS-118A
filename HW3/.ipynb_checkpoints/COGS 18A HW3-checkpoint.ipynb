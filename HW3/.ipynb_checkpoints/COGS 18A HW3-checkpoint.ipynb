{
 "cells": [
  {
   "cell_type": "markdown",
   "metadata": {
    "id": "F2nMBtOCxMTN"
   },
   "source": [
    "# COGS 118A: Supervised Machine Learning Algorithms\n",
    "## Homework Assignment 3\n",
    "### Math Part"
   ]
  },
  {
   "cell_type": "markdown",
   "metadata": {},
   "source": [
    "## 1 (10 points) Conceptual Questions"
   ]
  },
  {
   "cell_type": "markdown",
   "metadata": {},
   "source": [
    "### (1.1)"
   ]
  },
  {
   "cell_type": "markdown",
   "metadata": {},
   "source": [
    "False"
   ]
  },
  {
   "cell_type": "markdown",
   "metadata": {},
   "source": [
    "### (1.2)"
   ]
  },
  {
   "cell_type": "markdown",
   "metadata": {},
   "source": [
    "C. $n \\times k$"
   ]
  },
  {
   "cell_type": "markdown",
   "metadata": {},
   "source": [
    "### (1.3)"
   ]
  },
  {
   "cell_type": "markdown",
   "metadata": {},
   "source": [
    "#### (1.3.a)"
   ]
  },
  {
   "cell_type": "markdown",
   "metadata": {},
   "source": [
    "B. $w = (-1,0),\\, b = +1$"
   ]
  },
  {
   "cell_type": "markdown",
   "metadata": {},
   "source": [
    "#### (1.3.b)"
   ]
  },
  {
   "cell_type": "markdown",
   "metadata": {},
   "source": [
    "C. $w = (+1,0),\\, b = +1$"
   ]
  },
  {
   "cell_type": "markdown",
   "metadata": {},
   "source": [
    "### (1.4)"
   ]
  },
  {
   "cell_type": "markdown",
   "metadata": {},
   "source": [
    "B. prediction of continuous values vs. prediction of class labels"
   ]
  },
  {
   "cell_type": "markdown",
   "metadata": {},
   "source": [
    "## 2 (25 points) Decision Boundary"
   ]
  },
  {
   "cell_type": "markdown",
   "metadata": {},
   "source": [
    "### (2.1)"
   ]
  },
  {
   "cell_type": "markdown",
   "metadata": {},
   "source": [
    "$h(x_1, x_2) =\n",
    "\\begin{cases}\n",
    "1, \\, \\text{if} \\, x_1 + 2x_2 - 4 \\geq 0\\\\\n",
    "0, \\, \\text{otherwise.}\n",
    "\\end{cases}$"
   ]
  },
  {
   "cell_type": "code",
   "execution_count": null,
   "metadata": {},
   "outputs": [],
   "source": [
    "import numpy as np\n",
    "import matplotlib.pyplot as plt\n",
    "\n",
    "x1 = np.linspace(-6, 6, num = 30)\n",
    "x2 = -1/2 * x1 + 2\n",
    "\n",
    "plt.title(\"$x_1 + 2x_2 - 4 \\geq 0$\")\n",
    "plt.xlabel(\"$x_1$\")\n",
    "plt.ylabel(\"$x_2$\")\n",
    "plt.grid()\n",
    "\n",
    "plt.axhline(0)\n",
    "plt.axvline(0)\n",
    "plt.plot(x1, x2)\n",
    "plt.fill_between(x1, x2, 6, alpha=0.2)\n",
    "\n",
    "plt.scatter(4, 0)\n",
    "plt.scatter(0, 2)\n",
    "plt.annotate(\"(0, 2)\", (0, 2), textcoords=\"offset points\", xytext=(0, 10), ha='center')\n",
    "plt.annotate(\"(4, 0)\", (4, 0), textcoords=\"offset points\", xytext=(0, 10), ha='center')"
   ]
  },
  {
   "cell_type": "markdown",
   "metadata": {},
   "source": [
    "### (2.2)"
   ]
  },
  {
   "cell_type": "markdown",
   "metadata": {},
   "source": [
    "#### (2.2.1)"
   ]
  },
  {
   "cell_type": "markdown",
   "metadata": {},
   "source": [
    "$w_1(1) + w_2(0) + b = 0\\\\\n",
    "w_1(0) + w_2(1) + b = 0$\n",
    "\n",
    "$w_1 + b = 0\\\\\n",
    "w_2 + b = 0\\\\\n",
    "w_1 = w_2$\n",
    "\n",
    "$\\sqrt{w_1^2 + w_2^2} = 1\\\\\n",
    "\\sqrt{2w_1^2} = 1\\\\\n",
    "w_1 = \\pm \\sqrt{\\frac{1}{2}} \\quad w_2 = \\pm \\sqrt{\\frac{1}{2}}\\\\\n",
    "w\\, \\text{should point toward top right so}\\\\\n",
    "(w_1, w_2) = (\\sqrt{\\frac{1}{2}}, \\sqrt{\\frac{1}{2}})$\n",
    "\n",
    "$w_1 + b = 0\\\\\n",
    "\\sqrt{\\frac{1}{2}} + b = 0\\\\\n",
    "b = -\\sqrt{\\frac{1}{2}}$\n",
    "\n",
    "$(w_1, w_2) = (\\sqrt{\\frac{1}{2}}, \\sqrt{\\frac{1}{2}})\\\\\n",
    "b = -\\sqrt{\\frac{1}{2}}$"
   ]
  },
  {
   "cell_type": "markdown",
   "metadata": {},
   "source": [
    "#### (2.2.2)"
   ]
  },
  {
   "cell_type": "markdown",
   "metadata": {},
   "source": [
    "$A = (-3, -2)\\\\\n",
    "B = (1, 1)$\n",
    "\n",
    "$(\\sqrt{\\frac{1}{2}})(-3) + (\\sqrt{\\frac{1}{2}})(-2) - \\sqrt{\\frac{1}{2}} < 0\\\\\n",
    "h(A) = 0$\n",
    "\n",
    "$(\\sqrt{\\frac{1}{2}})(1) + (\\sqrt{\\frac{1}{2}})(1) - \\sqrt{\\frac{1}{2}} \\geq 0\\\\\n",
    "h(B) = 1$"
   ]
  },
  {
   "cell_type": "markdown",
   "metadata": {},
   "source": [
    "### (2.3) "
   ]
  },
  {
   "cell_type": "code",
   "execution_count": null,
   "metadata": {},
   "outputs": [],
   "source": [
    "import math\n",
    "import numpy as np\n",
    "import matplotlib.pyplot as plt\n",
    "\n",
    "x1_range = np.linspace(-6, 6, num = 30)\n",
    "x2_range = np.linspace(-6, 6, num = 30)\n",
    "x1, x2 = np.meshgrid(x1_range, x2_range)\n",
    "F = (x1**2) + (x2**2) - 10 \n",
    "\n",
    "plt.title(\"$x_1^2 + x_2^2 - 10 \\geq 0$\")\n",
    "plt.xlabel(\"$x_1$\")\n",
    "plt.ylabel(\"$x_2$\")\n",
    "plt.grid()\n",
    "\n",
    "plt.axhline(0)\n",
    "plt.axvline(0)\n",
    "plt.contour(x1, x2, F, [0])\n",
    "plt.contourf(x1, x2, F, [0, 100], alpha=0.2)\n",
    "\n",
    "plt.scatter(math.sqrt(10), 0)\n",
    "plt.scatter(-math.sqrt(10), 0)\n",
    "plt.scatter(0, math.sqrt(10))\n",
    "plt.scatter(0, -math.sqrt(10))\n",
    "\n",
    "plt.annotate(\"$(\\sqrt{10}, 0)$\", (math.sqrt(10), 0), textcoords=\"offset points\", xytext=(0, 10), ha='center')\n",
    "plt.annotate(\"$(-\\sqrt{10}, 0)$\", (-math.sqrt(10), 0), textcoords=\"offset points\", xytext=(0, 10), ha='center')\n",
    "plt.annotate(\"$(0, \\sqrt{10})$\", (0, math.sqrt(10)), textcoords=\"offset points\", xytext=(0, 10), ha='center')\n",
    "plt.annotate(\"$(0, -\\sqrt{10})$\", (0, -math.sqrt(10)), textcoords=\"offset points\", xytext=(0, 10), ha='center')"
   ]
  },
  {
   "cell_type": "markdown",
   "metadata": {},
   "source": [
    "## 3 (15 points) Derivatives"
   ]
  },
  {
   "cell_type": "markdown",
   "metadata": {},
   "source": [
    "### (3.1)"
   ]
  },
  {
   "cell_type": "markdown",
   "metadata": {},
   "source": [
    "#### (3.1.1)"
   ]
  },
  {
   "cell_type": "markdown",
   "metadata": {},
   "source": [
    "$f(w) = (y_1 - wx_1)^2\\\\\n",
    "(x_1, y_1) = (1, 1)$\n",
    "\n",
    "$\\frac{\\partial f(w)}{\\partial w} = 2(y_1 - wx_1)(-x_1)\\\\\n",
    "= 2(1 - w)(-1) = 2w - 2$"
   ]
  },
  {
   "cell_type": "markdown",
   "metadata": {},
   "source": [
    "#### (3.1.2)"
   ]
  },
  {
   "cell_type": "markdown",
   "metadata": {},
   "source": [
    "$f(w) = \\sum_{i \\in \\{1, 2\\}}(y_1 - wx_1)^2\\\\\n",
    "(x_1, y_1) = (1, 1)\\\\\n",
    "(x_2, y_2) = (2, 3)$\n",
    "\n",
    "$f(w) = (1 - w)^2 + (3 - 2w)^2\\\\\n",
    "\\frac{\\partial f(w)}{\\partial w} = 2(1 - w)(-1) + 2(3 - 2w)(-2)\\\\\n",
    "= -2 + 2w - 12 + 8w\\\\\n",
    "= 10w - 14$"
   ]
  },
  {
   "cell_type": "markdown",
   "metadata": {},
   "source": [
    "### (3.2)"
   ]
  },
  {
   "cell_type": "markdown",
   "metadata": {},
   "source": [
    "#### (3.2.1)"
   ]
  },
  {
   "cell_type": "markdown",
   "metadata": {},
   "source": [
    "$f(w) = (y - wx)^T(y - wx)\\\\\n",
    "x = \\begin{pmatrix}1 \\\\ 3\\end{pmatrix} \\quad\n",
    "y = \\begin{pmatrix}1 \\\\ 2\\end{pmatrix}$\n",
    "\n",
    "$f(w) = (y^T - wx^T)(y - wx)\\\\\n",
    "= y^Ty - wx^Ty - wy^Tx + w^2x^Tx$\n",
    "\n",
    "$\\frac{\\partial f(w)}{\\partial w} = -x^T - y^Tx + 2wx^Tx\\\\\n",
    "= -\\begin{pmatrix}1 & 3\\end{pmatrix} \\begin{pmatrix}1 \\\\ 2\\end{pmatrix} - \\begin{pmatrix}1 & 2\\end{pmatrix} \\begin{pmatrix}1 \\\\ 3\\end{pmatrix} + 2w \\begin{pmatrix}1 & 3\\end{pmatrix} \\begin{pmatrix}1 \\\\ 3\\end{pmatrix}\\\\\n",
    "= -7 - 7 + 2(10)w = 20w - 14$"
   ]
  },
  {
   "cell_type": "markdown",
   "metadata": {},
   "source": [
    "## 4 (30 points) Linear Regression"
   ]
  },
  {
   "cell_type": "markdown",
   "metadata": {},
   "source": [
    "### (4.a)"
   ]
  },
  {
   "cell_type": "markdown",
   "metadata": {},
   "source": [
    "$g(W) = (XW - Y)^T(XW - Y)\\\\\n",
    "= (W^TX^T - Y^T)(XW - Y)\\\\\n",
    "= W^TX^TXW - Y^TXW - W^TX^TY + Y^TY\\\\\n",
    "= W^TX^TXW - 2W^TX^TY + Y^TY$\n",
    "\n",
    "$\\nabla g(W) = 2X^TXW - 2X^TY$"
   ]
  },
  {
   "cell_type": "markdown",
   "metadata": {},
   "source": [
    "### (4.b)"
   ]
  },
  {
   "cell_type": "markdown",
   "metadata": {},
   "source": [
    "$\\nabla g(W) = 0\\\\\n",
    "2X^TXW - 2X^TY = 0\\\\\n",
    "2X^TXW = 2X^TY\\\\\n",
    "X^TXW = X^TY\\\\\n",
    "W^* = (X^TX)^{-1}X^TY$"
   ]
  },
  {
   "cell_type": "markdown",
   "metadata": {},
   "source": [
    "### (4.c)"
   ]
  },
  {
   "cell_type": "markdown",
   "metadata": {},
   "source": [
    "$h(W) = \\sum_{i=1}^{n}|x_i^TW - y_i|$\n",
    "\n",
    "$\\frac{\\partial h(W)}{\\partial W} = \\frac{\\partial}{\\partial W}(\\sum_{i=1}^{n}|x_i^TW - y_i|)\\\\\n",
    "= \\sum_{i=1}^{n}\\frac{\\partial}{\\partial W}(|x_i^TW - y_i|)\\\\\n",
    "= \\sum_{i=1}^{n}\\operatorname{sign}(x_i^TW - y_i)\\frac{\\partial}{\\partial W}(x_i^TW - y_i)\\\\\n",
    "= \\sum_{i=1}^{n}\\operatorname{sign}(x_i^TW - y_i)(x_i)$"
   ]
  },
  {
   "cell_type": "markdown",
   "metadata": {
    "id": "F2nMBtOCxMTN"
   },
   "source": [
    "# COGS 118A: Supervised Machine Learning Algorithms\n",
    "## Homework Assignment 3\n",
    "### Coding Part"
   ]
  },
  {
   "cell_type": "markdown",
   "metadata": {
    "id": "_mj7rYbFBf3h"
   },
   "source": [
    "## 5 (20 points) Coding:  Data Manipulation"
   ]
  },
  {
   "cell_type": "code",
   "execution_count": null,
   "metadata": {},
   "outputs": [],
   "source": [
    "# Importing Required Packages\n",
    "import numpy as np\n",
    "import pandas as pd\n",
    "from sklearn import datasets"
   ]
  },
  {
   "cell_type": "code",
   "execution_count": null,
   "metadata": {
    "colab": {
     "base_uri": "https://localhost:8080/",
     "height": 1000
    },
    "id": "Qr-sP7UH9g-f",
    "outputId": "7604fb77-7bd9-4445-d899-06c3258a621b",
    "scrolled": false
   },
   "outputs": [],
   "source": [
    "# Loading the dataset\n",
    "iris = datasets.load_iris()"
   ]
  },
  {
   "cell_type": "code",
   "execution_count": null,
   "metadata": {},
   "outputs": [],
   "source": [
    "# Creating a Pandas dataframe that contains the dataset\n",
    "# Using no.c_ to concatenate the features and lables into one array\n",
    "iris_df = pd.DataFrame(data = np.c_[iris.data, iris.target],\n",
    "                       columns = iris['feature_names'] + ['target'])"
   ]
  },
  {
   "cell_type": "code",
   "execution_count": null,
   "metadata": {},
   "outputs": [],
   "source": [
    "iris_df.head()"
   ]
  },
  {
   "cell_type": "markdown",
   "metadata": {},
   "source": [
    "### (5.1)"
   ]
  },
  {
   "cell_type": "code",
   "execution_count": null,
   "metadata": {},
   "outputs": [],
   "source": [
    "group1 = iris_df[0:30]\n",
    "group2 = iris_df[30:60]\n",
    "group3 = iris_df[60:90]\n",
    "group4 = iris_df[90:120]\n",
    "group5 = iris_df[120:150]\n",
    "\n",
    "print(\"group1.shape:\", group1.shape)\n",
    "print(\"group2.shape:\", group2.shape)\n",
    "print(\"group3.shape:\", group3.shape)\n",
    "print(\"group4.shape:\", group4.shape)\n",
    "print(\"group5.shape:\", group5.shape)\n",
    "print()\n",
    "\n",
    "group1_feature_means = group1.iloc[:,0:4].mean()\n",
    "group2_feature_means = group2.iloc[:,0:4].mean()\n",
    "group3_feature_means = group3.iloc[:,0:4].mean()\n",
    "group4_feature_means = group4.iloc[:,0:4].mean()\n",
    "group5_feature_means = group5.iloc[:,0:4].mean()\n",
    "\n",
    "print(\"group1_feature_means:\\n\", group1_feature_means)\n",
    "print(\"group2_feature_means:\\n\", group2_feature_means)\n",
    "print(\"group3_feature_means:\\n\", group3_feature_means)\n",
    "print(\"group4_feature_means:\\n\", group4_feature_means)\n",
    "print(\"group5_feature_means:\\n\", group5_feature_means)"
   ]
  },
  {
   "cell_type": "markdown",
   "metadata": {},
   "source": [
    "### (5.2)"
   ]
  },
  {
   "cell_type": "code",
   "execution_count": null,
   "metadata": {},
   "outputs": [],
   "source": [
    "iris_2_df = iris_df.drop(columns=['sepal width (cm)', 'petal length (cm)'])\n",
    "print(\"iris_2_df.shape:\", iris_2_df.shape)\n",
    "print()\n",
    "\n",
    "iris_2_df_feature_means = iris_2_df.iloc[:,0:2].mean()\n",
    "print(\"iris_2_df_feature_means:\\n\", iris_2_df_feature_means)"
   ]
  },
  {
   "cell_type": "markdown",
   "metadata": {},
   "source": [
    "### (5.3)"
   ]
  },
  {
   "cell_type": "code",
   "execution_count": null,
   "metadata": {},
   "outputs": [],
   "source": [
    "iris_3_df = iris_df[0:140]\n",
    "print(\"iris_3_df.shape:\", iris_3_df.shape)\n",
    "print()\n",
    "\n",
    "iris_3_df_feature_means = iris_3_df.iloc[:,0:4].mean()\n",
    "print(\"iris_3_df_feature_means:\\n\", iris_3_df_feature_means)"
   ]
  }
 ],
 "metadata": {
  "kernelspec": {
   "display_name": "Python 3",
   "language": "python",
   "name": "python3"
  },
  "language_info": {
   "codemirror_mode": {
    "name": "ipython",
    "version": 3
   },
   "file_extension": ".py",
   "mimetype": "text/x-python",
   "name": "python",
   "nbconvert_exporter": "python",
   "pygments_lexer": "ipython3",
   "version": "3.8.5"
  }
 },
 "nbformat": 4,
 "nbformat_minor": 4
}
